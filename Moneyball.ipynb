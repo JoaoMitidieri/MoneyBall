{
 "cells": [
  {
   "cell_type": "markdown",
   "id": "fba6cec6",
   "metadata": {},
   "source": [
    "# MONEYBALL - O Homem que Mudou o Jogo:"
   ]
  },
  {
   "cell_type": "markdown",
   "id": "58567303",
   "metadata": {},
   "source": [
    "## Contexto:\n",
    "Um dos times mais pobres no Baseball na época, com o salário 4 vezes menor em comparação com os times ricos.\n",
    "\n",
    "Tiveram o Budget cortado em 1995, mas ainda conseguiam ganhar jogos e indo para os playoffs.\n",
    "\n",
    "O Oakland A´s fizeram então uma abordagem quantitiva para encontraram jogadores desvalorizados e assim montaram um time eficiente com baixo investimento.\n",
    "\n",
    "Com uma abordagem diferente, Oakland A's selecionou jogadores com base nas estatísticas, não no modo de jogar.\n",
    "\n",
    "\n",
    "## Problema de Negócio:\n",
    "Descobrir como chegar os Playoffs, utilizando esse DataSet com informações que foram usadas pelo Oakland A´s, e nisso entenderemos quais foram os métodos utilizados pelo time na época.\n",
    "\n",
    "Fonte dos Dados: https://www.kaggle.com/datasets/wduckett/moneyball-mlb-stats-19622012"
   ]
  },
  {
   "cell_type": "markdown",
   "id": "f5d54994",
   "metadata": {},
   "source": [
    "### Instalando e carregando pacotes"
   ]
  },
  {
   "cell_type": "code",
   "execution_count": 1,
   "id": "e9697164",
   "metadata": {
    "scrolled": true
   },
   "outputs": [],
   "source": [
    "import pandas as pd\n",
    "import numpy as np\n",
    "import seaborn as sns\n",
    "import matplotlib.pyplot as plt \n",
    "from sklearn.linear_model import LinearRegression\n",
    "from sklearn.impute import SimpleImputer\n",
    "import statsmodels.api as sm\n",
    "import statsmodels.formula.api as smf\n",
    "import warnings\n",
    "warnings.filterwarnings(\"ignore\")"
   ]
  },
  {
   "cell_type": "code",
   "execution_count": 2,
   "id": "10dc5bef",
   "metadata": {},
   "outputs": [],
   "source": [
    "# Carregar os dados usando pandas\n",
    "dados = pd.read_csv('dados/baseball.csv')"
   ]
  },
  {
   "cell_type": "markdown",
   "id": "41c46c81",
   "metadata": {},
   "source": [
    "### Usando Dados de 1962-2001 para poder Prever a Temporada de 2002 da MLB"
   ]
  },
  {
   "cell_type": "code",
   "execution_count": 3,
   "id": "9f8d7b2d",
   "metadata": {},
   "outputs": [],
   "source": [
    "moneyball = dados.loc[dados['Year'] < 2002]"
   ]
  },
  {
   "cell_type": "code",
   "execution_count": 4,
   "id": "ccd0d6f9",
   "metadata": {
    "scrolled": false
   },
   "outputs": [
    {
     "data": {
      "text/html": [
       "<div>\n",
       "<style scoped>\n",
       "    .dataframe tbody tr th:only-of-type {\n",
       "        vertical-align: middle;\n",
       "    }\n",
       "\n",
       "    .dataframe tbody tr th {\n",
       "        vertical-align: top;\n",
       "    }\n",
       "\n",
       "    .dataframe thead th {\n",
       "        text-align: right;\n",
       "    }\n",
       "</style>\n",
       "<table border=\"1\" class=\"dataframe\">\n",
       "  <thead>\n",
       "    <tr style=\"text-align: right;\">\n",
       "      <th></th>\n",
       "      <th>Team</th>\n",
       "      <th>League</th>\n",
       "      <th>Year</th>\n",
       "      <th>RS</th>\n",
       "      <th>RA</th>\n",
       "      <th>W</th>\n",
       "      <th>OBP</th>\n",
       "      <th>SLG</th>\n",
       "      <th>BA</th>\n",
       "      <th>Playoffs</th>\n",
       "      <th>RankSeason</th>\n",
       "      <th>RankPlayoffs</th>\n",
       "      <th>G</th>\n",
       "      <th>OOBP</th>\n",
       "      <th>OSLG</th>\n",
       "    </tr>\n",
       "  </thead>\n",
       "  <tbody>\n",
       "    <tr>\n",
       "      <th>330</th>\n",
       "      <td>ANA</td>\n",
       "      <td>AL</td>\n",
       "      <td>2001</td>\n",
       "      <td>691</td>\n",
       "      <td>730</td>\n",
       "      <td>75</td>\n",
       "      <td>0.327</td>\n",
       "      <td>0.405</td>\n",
       "      <td>0.261</td>\n",
       "      <td>0</td>\n",
       "      <td>NaN</td>\n",
       "      <td>NaN</td>\n",
       "      <td>162</td>\n",
       "      <td>0.331</td>\n",
       "      <td>0.412</td>\n",
       "    </tr>\n",
       "    <tr>\n",
       "      <th>331</th>\n",
       "      <td>ARI</td>\n",
       "      <td>NL</td>\n",
       "      <td>2001</td>\n",
       "      <td>818</td>\n",
       "      <td>677</td>\n",
       "      <td>92</td>\n",
       "      <td>0.341</td>\n",
       "      <td>0.442</td>\n",
       "      <td>0.267</td>\n",
       "      <td>1</td>\n",
       "      <td>5.0</td>\n",
       "      <td>1.0</td>\n",
       "      <td>162</td>\n",
       "      <td>0.311</td>\n",
       "      <td>0.404</td>\n",
       "    </tr>\n",
       "    <tr>\n",
       "      <th>332</th>\n",
       "      <td>ATL</td>\n",
       "      <td>NL</td>\n",
       "      <td>2001</td>\n",
       "      <td>729</td>\n",
       "      <td>643</td>\n",
       "      <td>88</td>\n",
       "      <td>0.324</td>\n",
       "      <td>0.412</td>\n",
       "      <td>0.260</td>\n",
       "      <td>1</td>\n",
       "      <td>7.0</td>\n",
       "      <td>3.0</td>\n",
       "      <td>162</td>\n",
       "      <td>0.314</td>\n",
       "      <td>0.384</td>\n",
       "    </tr>\n",
       "    <tr>\n",
       "      <th>333</th>\n",
       "      <td>BAL</td>\n",
       "      <td>AL</td>\n",
       "      <td>2001</td>\n",
       "      <td>687</td>\n",
       "      <td>829</td>\n",
       "      <td>63</td>\n",
       "      <td>0.319</td>\n",
       "      <td>0.380</td>\n",
       "      <td>0.248</td>\n",
       "      <td>0</td>\n",
       "      <td>NaN</td>\n",
       "      <td>NaN</td>\n",
       "      <td>162</td>\n",
       "      <td>0.337</td>\n",
       "      <td>0.439</td>\n",
       "    </tr>\n",
       "    <tr>\n",
       "      <th>334</th>\n",
       "      <td>BOS</td>\n",
       "      <td>AL</td>\n",
       "      <td>2001</td>\n",
       "      <td>772</td>\n",
       "      <td>745</td>\n",
       "      <td>82</td>\n",
       "      <td>0.334</td>\n",
       "      <td>0.439</td>\n",
       "      <td>0.266</td>\n",
       "      <td>0</td>\n",
       "      <td>NaN</td>\n",
       "      <td>NaN</td>\n",
       "      <td>161</td>\n",
       "      <td>0.329</td>\n",
       "      <td>0.393</td>\n",
       "    </tr>\n",
       "  </tbody>\n",
       "</table>\n",
       "</div>"
      ],
      "text/plain": [
       "    Team League  Year   RS   RA   W    OBP    SLG     BA  Playoffs  \\\n",
       "330  ANA     AL  2001  691  730  75  0.327  0.405  0.261         0   \n",
       "331  ARI     NL  2001  818  677  92  0.341  0.442  0.267         1   \n",
       "332  ATL     NL  2001  729  643  88  0.324  0.412  0.260         1   \n",
       "333  BAL     AL  2001  687  829  63  0.319  0.380  0.248         0   \n",
       "334  BOS     AL  2001  772  745  82  0.334  0.439  0.266         0   \n",
       "\n",
       "     RankSeason  RankPlayoffs    G   OOBP   OSLG  \n",
       "330         NaN           NaN  162  0.331  0.412  \n",
       "331         5.0           1.0  162  0.311  0.404  \n",
       "332         7.0           3.0  162  0.314  0.384  \n",
       "333         NaN           NaN  162  0.337  0.439  \n",
       "334         NaN           NaN  161  0.329  0.393  "
      ]
     },
     "execution_count": 4,
     "metadata": {},
     "output_type": "execute_result"
    }
   ],
   "source": [
    "moneyball.head()"
   ]
  },
  {
   "cell_type": "code",
   "execution_count": 5,
   "id": "5b098b57",
   "metadata": {
    "scrolled": true
   },
   "outputs": [
    {
     "data": {
      "text/plain": [
       "0    748\n",
       "1    154\n",
       "Name: Playoffs, dtype: int64"
      ]
     },
     "execution_count": 5,
     "metadata": {},
     "output_type": "execute_result"
    }
   ],
   "source": [
    "moneyball['Playoffs'].value_counts()"
   ]
  },
  {
   "cell_type": "markdown",
   "id": "c4f25595",
   "metadata": {},
   "source": [
    "### Relação entre Números de Vitórias e Playoffs"
   ]
  },
  {
   "cell_type": "code",
   "execution_count": 6,
   "id": "50f560b8",
   "metadata": {},
   "outputs": [
    {
     "data": {
      "text/plain": [
       "Team\n",
       "ANA          NaN\n",
       "ARI    96.000000\n",
       "ATL    97.000000\n",
       "BAL    98.900000\n",
       "BOS    92.142857\n",
       "Name: 1, dtype: float64"
      ]
     },
     "execution_count": 6,
     "metadata": {},
     "output_type": "execute_result"
    }
   ],
   "source": [
    "qualificados = moneyball[['Team', 'W', 'Playoffs']]\n",
    "\n",
    "tabela_pivo = pd.pivot_table(qualificados, index='Team', columns='Playoffs', values='W', aggfunc='mean')\n",
    "\n",
    "tabela_pivo[1].head()"
   ]
  },
  {
   "cell_type": "code",
   "execution_count": 52,
   "id": "4a58383a",
   "metadata": {
    "scrolled": true
   },
   "outputs": [
    {
     "name": "stdout",
     "output_type": "stream",
     "text": [
      "A média de vitórias dos times que vão para os playoffs é de 95 vitórias\n"
     ]
    }
   ],
   "source": [
    "W = round(tabela_pivo[1].mean())\n",
    "print(\"A média de vitórias dos times que vão para os playoffs é de\", W ,\"vitórias\")"
   ]
  },
  {
   "cell_type": "code",
   "execution_count": 8,
   "id": "31faa7fc",
   "metadata": {},
   "outputs": [
    {
     "data": {
      "text/plain": [
       "<seaborn.axisgrid.FacetGrid at 0x1e3a2fcc970>"
      ]
     },
     "execution_count": 8,
     "metadata": {},
     "output_type": "execute_result"
    },
    {
     "data": {
      "text/plain": [
       "<Figure size 1440x576 with 0 Axes>"
      ]
     },
     "metadata": {},
     "output_type": "display_data"
    },
    {
     "data": {
      "image/png": "[encoded data removed]",
      "text/plain": [
       "<Figure size 407.375x360 with 1 Axes>"
      ]
     },
     "metadata": {
      "needs_background": "light"
     },
     "output_type": "display_data"
    }
   ],
   "source": [
    "plt.figure(figsize = (20,8))\n",
    "sns.relplot(x = \"W\", y = \"Team\", hue = \"Playoffs\", data = dados)"
   ]
  },
  {
   "cell_type": "markdown",
   "id": "9f8da9e9",
   "metadata": {},
   "source": [
    "### Inserindo a Coluna de RD no Dataset:\n",
    "\n",
    "RD - Valor da diferença entre RS e RA.\n",
    "\n",
    "RS - Corridas que foram marcadas \n",
    "\n",
    "RA - Corridas que foram permitidas\n"
   ]
  },
  {
   "cell_type": "code",
   "execution_count": 9,
   "id": "db545a0e",
   "metadata": {},
   "outputs": [],
   "source": [
    "RD = moneyball['RS'] - moneyball['RA']"
   ]
  },
  {
   "cell_type": "code",
   "execution_count": 10,
   "id": "0e39207c",
   "metadata": {},
   "outputs": [],
   "source": [
    "# Inserindo a coluna de RD no Dataset\n",
    "moneyball.insert(loc = 5, column = 'RD', value = RD)"
   ]
  },
  {
   "cell_type": "code",
   "execution_count": 11,
   "id": "52a8e966",
   "metadata": {
    "scrolled": true
   },
   "outputs": [
    {
     "data": {
      "text/html": [
       "<div>\n",
       "<style scoped>\n",
       "    .dataframe tbody tr th:only-of-type {\n",
       "        vertical-align: middle;\n",
       "    }\n",
       "\n",
       "    .dataframe tbody tr th {\n",
       "        vertical-align: top;\n",
       "    }\n",
       "\n",
       "    .dataframe thead th {\n",
       "        text-align: right;\n",
       "    }\n",
       "</style>\n",
       "<table border=\"1\" class=\"dataframe\">\n",
       "  <thead>\n",
       "    <tr style=\"text-align: right;\">\n",
       "      <th></th>\n",
       "      <th>Team</th>\n",
       "      <th>League</th>\n",
       "      <th>Year</th>\n",
       "      <th>RS</th>\n",
       "      <th>RA</th>\n",
       "      <th>RD</th>\n",
       "      <th>W</th>\n",
       "      <th>OBP</th>\n",
       "      <th>SLG</th>\n",
       "      <th>BA</th>\n",
       "      <th>Playoffs</th>\n",
       "      <th>RankSeason</th>\n",
       "      <th>RankPlayoffs</th>\n",
       "      <th>G</th>\n",
       "      <th>OOBP</th>\n",
       "      <th>OSLG</th>\n",
       "    </tr>\n",
       "  </thead>\n",
       "  <tbody>\n",
       "    <tr>\n",
       "      <th>330</th>\n",
       "      <td>ANA</td>\n",
       "      <td>AL</td>\n",
       "      <td>2001</td>\n",
       "      <td>691</td>\n",
       "      <td>730</td>\n",
       "      <td>-39</td>\n",
       "      <td>75</td>\n",
       "      <td>0.327</td>\n",
       "      <td>0.405</td>\n",
       "      <td>0.261</td>\n",
       "      <td>0</td>\n",
       "      <td>NaN</td>\n",
       "      <td>NaN</td>\n",
       "      <td>162</td>\n",
       "      <td>0.331</td>\n",
       "      <td>0.412</td>\n",
       "    </tr>\n",
       "    <tr>\n",
       "      <th>331</th>\n",
       "      <td>ARI</td>\n",
       "      <td>NL</td>\n",
       "      <td>2001</td>\n",
       "      <td>818</td>\n",
       "      <td>677</td>\n",
       "      <td>141</td>\n",
       "      <td>92</td>\n",
       "      <td>0.341</td>\n",
       "      <td>0.442</td>\n",
       "      <td>0.267</td>\n",
       "      <td>1</td>\n",
       "      <td>5.0</td>\n",
       "      <td>1.0</td>\n",
       "      <td>162</td>\n",
       "      <td>0.311</td>\n",
       "      <td>0.404</td>\n",
       "    </tr>\n",
       "    <tr>\n",
       "      <th>332</th>\n",
       "      <td>ATL</td>\n",
       "      <td>NL</td>\n",
       "      <td>2001</td>\n",
       "      <td>729</td>\n",
       "      <td>643</td>\n",
       "      <td>86</td>\n",
       "      <td>88</td>\n",
       "      <td>0.324</td>\n",
       "      <td>0.412</td>\n",
       "      <td>0.260</td>\n",
       "      <td>1</td>\n",
       "      <td>7.0</td>\n",
       "      <td>3.0</td>\n",
       "      <td>162</td>\n",
       "      <td>0.314</td>\n",
       "      <td>0.384</td>\n",
       "    </tr>\n",
       "    <tr>\n",
       "      <th>333</th>\n",
       "      <td>BAL</td>\n",
       "      <td>AL</td>\n",
       "      <td>2001</td>\n",
       "      <td>687</td>\n",
       "      <td>829</td>\n",
       "      <td>-142</td>\n",
       "      <td>63</td>\n",
       "      <td>0.319</td>\n",
       "      <td>0.380</td>\n",
       "      <td>0.248</td>\n",
       "      <td>0</td>\n",
       "      <td>NaN</td>\n",
       "      <td>NaN</td>\n",
       "      <td>162</td>\n",
       "      <td>0.337</td>\n",
       "      <td>0.439</td>\n",
       "    </tr>\n",
       "    <tr>\n",
       "      <th>334</th>\n",
       "      <td>BOS</td>\n",
       "      <td>AL</td>\n",
       "      <td>2001</td>\n",
       "      <td>772</td>\n",
       "      <td>745</td>\n",
       "      <td>27</td>\n",
       "      <td>82</td>\n",
       "      <td>0.334</td>\n",
       "      <td>0.439</td>\n",
       "      <td>0.266</td>\n",
       "      <td>0</td>\n",
       "      <td>NaN</td>\n",
       "      <td>NaN</td>\n",
       "      <td>161</td>\n",
       "      <td>0.329</td>\n",
       "      <td>0.393</td>\n",
       "    </tr>\n",
       "  </tbody>\n",
       "</table>\n",
       "</div>"
      ],
      "text/plain": [
       "    Team League  Year   RS   RA   RD   W    OBP    SLG     BA  Playoffs  \\\n",
       "330  ANA     AL  2001  691  730  -39  75  0.327  0.405  0.261         0   \n",
       "331  ARI     NL  2001  818  677  141  92  0.341  0.442  0.267         1   \n",
       "332  ATL     NL  2001  729  643   86  88  0.324  0.412  0.260         1   \n",
       "333  BAL     AL  2001  687  829 -142  63  0.319  0.380  0.248         0   \n",
       "334  BOS     AL  2001  772  745   27  82  0.334  0.439  0.266         0   \n",
       "\n",
       "     RankSeason  RankPlayoffs    G   OOBP   OSLG  \n",
       "330         NaN           NaN  162  0.331  0.412  \n",
       "331         5.0           1.0  162  0.311  0.404  \n",
       "332         7.0           3.0  162  0.314  0.384  \n",
       "333         NaN           NaN  162  0.337  0.439  \n",
       "334         NaN           NaN  161  0.329  0.393  "
      ]
     },
     "execution_count": 11,
     "metadata": {},
     "output_type": "execute_result"
    }
   ],
   "source": [
    "moneyball.head()"
   ]
  },
  {
   "cell_type": "markdown",
   "id": "75ab3acd",
   "metadata": {},
   "source": [
    "### Relação entre Vitórias (W) e Valor da diferença entre 'runs' marcadas e permitadas (RD)"
   ]
  },
  {
   "cell_type": "code",
   "execution_count": 24,
   "id": "b1bab507",
   "metadata": {},
   "outputs": [
    {
     "name": "stdout",
     "output_type": "stream",
     "text": [
      "                            OLS Regression Results                            \n",
      "==============================================================================\n",
      "Dep. Variable:                      W   R-squared:                       0.881\n",
      "Model:                            OLS   Adj. R-squared:                  0.881\n",
      "Method:                 Least Squares   F-statistic:                     6651.\n",
      "Date:                Wed, 07 Jun 2023   Prob (F-statistic):               0.00\n",
      "Time:                        22:00:10   Log-Likelihood:                -2515.5\n",
      "No. Observations:                 902   AIC:                             5035.\n",
      "Df Residuals:                     900   BIC:                             5045.\n",
      "Df Model:                           1                                         \n",
      "Covariance Type:            nonrobust                                         \n",
      "==============================================================================\n",
      "                 coef    std err          t      P>|t|      [0.025      0.975]\n",
      "------------------------------------------------------------------------------\n",
      "const         80.8814      0.131    616.675      0.000      80.624      81.139\n",
      "RD             0.1058      0.001     81.554      0.000       0.103       0.108\n",
      "==============================================================================\n",
      "Omnibus:                        5.788   Durbin-Watson:                   2.076\n",
      "Prob(Omnibus):                  0.055   Jarque-Bera (JB):                5.736\n",
      "Skew:                          -0.195   Prob(JB):                       0.0568\n",
      "Kurtosis:                       3.033   Cond. No.                         101.\n",
      "==============================================================================\n",
      "\n",
      "Notes:\n",
      "[1] Standard Errors assume that the covariance matrix of the errors is correctly specified.\n"
     ]
    }
   ],
   "source": [
    "X = moneyball['RD']  # Variável independente\n",
    "y = moneyball['W']   # Variável dependente\n",
    "\n",
    "X = sm.add_constant(X)  # Adicionar uma coluna de 1s para representar o termo constante\n",
    "\n",
    "regressao = sm.OLS(y, X).fit()  # Ajustar o modelo de regressão\n",
    "print(regressao.summary()) # Imprimir os resultados da regressão"
   ]
  },
  {
   "cell_type": "code",
   "execution_count": 22,
   "id": "357d727d",
   "metadata": {},
   "outputs": [
    {
     "name": "stdout",
     "output_type": "stream",
     "text": [
      "R-quadrado: 0.88 , Temos uma Regressão Linear entre as duas variáveis (W~RD).\n"
     ]
    }
   ],
   "source": [
    "print(\"R-quadrado:\", round(regressao.rsquared,2),\", Temos uma Regressão Linear entre as duas variáveis (W~RD).\")"
   ]
  },
  {
   "cell_type": "code",
   "execution_count": 23,
   "id": "37667e2c",
   "metadata": {},
   "outputs": [
    {
     "name": "stdout",
     "output_type": "stream",
     "text": [
      "Valor de RD é: 133\n"
     ]
    }
   ],
   "source": [
    "W = 95\n",
    "W = 80.8814 + 0.1058*RD\n",
    "RD = (95- 80.8814)/0.1058\n",
    "print('Valor de RD é:', round(RD))"
   ]
  },
  {
   "cell_type": "markdown",
   "id": "28b3c56d",
   "metadata": {},
   "source": [
    "### RS: Corridas  marcadas"
   ]
  },
  {
   "cell_type": "markdown",
   "id": "7a8c1f0f",
   "metadata": {},
   "source": [
    "OBP e SLG são os atributos mais importantes para prever as corridas('runs') marcadas. \n",
    "\n",
    "OBP - (tempo que o jogador chega na base)A porcentagem de bases alcançadas, mede a habilidade do rebatedor de chegar à base com segurança.\n",
    "\n",
    "SLG - (tempo que o jogador da volta na base)A porcentagem de bases extras alcançadas (SLG) mede a habilidade do rebatedor de produzir bases extras, como rebatidas de dupla, tripla e home runs."
   ]
  },
  {
   "cell_type": "code",
   "execution_count": 25,
   "id": "c18b9994",
   "metadata": {},
   "outputs": [
    {
     "name": "stdout",
     "output_type": "stream",
     "text": [
      "                            OLS Regression Results                            \n",
      "==============================================================================\n",
      "Dep. Variable:                     RS   R-squared:                       0.930\n",
      "Model:                            OLS   Adj. R-squared:                  0.929\n",
      "Method:                 Least Squares   F-statistic:                     5934.\n",
      "Date:                Wed, 07 Jun 2023   Prob (F-statistic):               0.00\n",
      "Time:                        22:02:46   Log-Likelihood:                -4174.2\n",
      "No. Observations:                 902   AIC:                             8354.\n",
      "Df Residuals:                     899   BIC:                             8369.\n",
      "Df Model:                           2                                         \n",
      "Covariance Type:            nonrobust                                         \n",
      "==============================================================================\n",
      "                 coef    std err          t      P>|t|      [0.025      0.975]\n",
      "------------------------------------------------------------------------------\n",
      "const       -804.6271     18.921    -42.526      0.000    -841.761    -767.493\n",
      "OBP         2737.7680     90.685     30.190      0.000    2559.790    2915.746\n",
      "SLG         1584.9086     42.156     37.597      0.000    1502.174    1667.643\n",
      "==============================================================================\n",
      "Omnibus:                        3.099   Durbin-Watson:                   1.933\n",
      "Prob(Omnibus):                  0.212   Jarque-Bera (JB):                3.106\n",
      "Skew:                           0.143   Prob(JB):                        0.212\n",
      "Kurtosis:                       2.972   Cond. No.                         134.\n",
      "==============================================================================\n",
      "\n",
      "Notes:\n",
      "[1] Standard Errors assume that the covariance matrix of the errors is correctly specified.\n"
     ]
    }
   ],
   "source": [
    "X1 = moneyball[['OBP', 'SLG']]  # Variáveis independentes\n",
    "y1 = moneyball['RS']   # Variável dependente\n",
    "\n",
    "X1 = sm.add_constant(X1)  # Adicionar uma coluna de 1s para representar o termo constante\n",
    "\n",
    "regressao1 = sm.OLS(y1, X1).fit()  # Ajustar o modelo de regressão\n",
    "print(regressao1.summary()) # Imprimir os resultados da regressão"
   ]
  },
  {
   "cell_type": "code",
   "execution_count": 54,
   "id": "8ccb9fac",
   "metadata": {},
   "outputs": [
    {
     "name": "stdout",
     "output_type": "stream",
     "text": [
      "R-quadrado: 0.93 , Temos uma Regressão Linear forte entre as três variáveis (RS~OBP+SLG).\n"
     ]
    }
   ],
   "source": [
    "print(\"R-quadrado:\", round(regressao1.rsquared,2),\", Temos uma Regressão Linear forte entre as três variáveis (RS~OBP+SLG).\")"
   ]
  },
  {
   "cell_type": "code",
   "execution_count": 29,
   "id": "c5c80536",
   "metadata": {},
   "outputs": [
    {
     "data": {
      "text/html": [
       "<div>\n",
       "<style scoped>\n",
       "    .dataframe tbody tr th:only-of-type {\n",
       "        vertical-align: middle;\n",
       "    }\n",
       "\n",
       "    .dataframe tbody tr th {\n",
       "        vertical-align: top;\n",
       "    }\n",
       "\n",
       "    .dataframe thead th {\n",
       "        text-align: right;\n",
       "    }\n",
       "</style>\n",
       "<table border=\"1\" class=\"dataframe\">\n",
       "  <thead>\n",
       "    <tr style=\"text-align: right;\">\n",
       "      <th></th>\n",
       "      <th>Team</th>\n",
       "      <th>OBP</th>\n",
       "      <th>SLG</th>\n",
       "    </tr>\n",
       "  </thead>\n",
       "  <tbody>\n",
       "    <tr>\n",
       "      <th>350</th>\n",
       "      <td>OAK</td>\n",
       "      <td>0.345</td>\n",
       "      <td>0.439</td>\n",
       "    </tr>\n",
       "  </tbody>\n",
       "</table>\n",
       "</div>"
      ],
      "text/plain": [
       "    Team    OBP    SLG\n",
       "350  OAK  0.345  0.439"
      ]
     },
     "execution_count": 29,
     "metadata": {},
     "output_type": "execute_result"
    }
   ],
   "source": [
    "obp = moneyball[moneyball.Year == 2001][moneyball.Team == 'OAK'][['Team','OBP','SLG']]\n",
    "obp"
   ]
  },
  {
   "cell_type": "code",
   "execution_count": 55,
   "id": "928fdca1",
   "metadata": {},
   "outputs": [
    {
     "name": "stdout",
     "output_type": "stream",
     "text": [
      "O time deve marcar próximo de 836 corridas(runs)\n"
     ]
    }
   ],
   "source": [
    "RS = -804.6271 +  2737.7680 *0.345 + 1584.9086*0.439\n",
    "print(\"O time deve marcar próximo de\", round(RS), 'corridas(runs)')"
   ]
  },
  {
   "cell_type": "markdown",
   "id": "41a9054c",
   "metadata": {},
   "source": [
    "###  RA:  Corridas permitidas\n",
    "OOBP e OSLG são estatísticas importantes para avaliar a qualidade do desempenho da equipe em termos de defesa e arremessadores, fornecendo uma visão geral da habilidade da equipe em evitar que os adversários alcancem as bases e pontuem corridas.\n",
    "\n",
    "OOBP - representa a porcentagem de vezes que um adversário alcança uma base, em relação ao número total de oportunidades de chegar à base. \n",
    "\n",
    "OSLG -  mede a média de bases alcançadas pelos adversários por rebatida válida"
   ]
  },
  {
   "cell_type": "code",
   "execution_count": 42,
   "id": "fd834844",
   "metadata": {},
   "outputs": [
    {
     "data": {
      "text/html": [
       "<table class=\"simpletable\">\n",
       "<caption>OLS Regression Results</caption>\n",
       "<tr>\n",
       "  <th>Dep. Variable:</th>           <td>RA</td>        <th>  R-squared:         </th> <td>   0.907</td>\n",
       "</tr>\n",
       "<tr>\n",
       "  <th>Model:</th>                   <td>OLS</td>       <th>  Adj. R-squared:    </th> <td>   0.905</td>\n",
       "</tr>\n",
       "<tr>\n",
       "  <th>Method:</th>             <td>Least Squares</td>  <th>  F-statistic:       </th> <td>   425.8</td>\n",
       "</tr>\n",
       "<tr>\n",
       "  <th>Date:</th>             <td>Wed, 07 Jun 2023</td> <th>  Prob (F-statistic):</th> <td>1.16e-45</td>\n",
       "</tr>\n",
       "<tr>\n",
       "  <th>Time:</th>                 <td>22:27:29</td>     <th>  Log-Likelihood:    </th> <td> -418.27</td>\n",
       "</tr>\n",
       "<tr>\n",
       "  <th>No. Observations:</th>      <td>    90</td>      <th>  AIC:               </th> <td>   842.5</td>\n",
       "</tr>\n",
       "<tr>\n",
       "  <th>Df Residuals:</th>          <td>    87</td>      <th>  BIC:               </th> <td>   850.0</td>\n",
       "</tr>\n",
       "<tr>\n",
       "  <th>Df Model:</th>              <td>     2</td>      <th>                     </th>     <td> </td>   \n",
       "</tr>\n",
       "<tr>\n",
       "  <th>Covariance Type:</th>      <td>nonrobust</td>    <th>                     </th>     <td> </td>   \n",
       "</tr>\n",
       "</table>\n",
       "<table class=\"simpletable\">\n",
       "<tr>\n",
       "      <td></td>         <th>coef</th>     <th>std err</th>      <th>t</th>      <th>P>|t|</th>  <th>[0.025</th>    <th>0.975]</th>  \n",
       "</tr>\n",
       "<tr>\n",
       "  <th>Intercept</th> <td> -837.3779</td> <td>   60.255</td> <td>  -13.897</td> <td> 0.000</td> <td> -957.142</td> <td> -717.614</td>\n",
       "</tr>\n",
       "<tr>\n",
       "  <th>OOBP</th>      <td> 2913.5995</td> <td>  291.971</td> <td>    9.979</td> <td> 0.000</td> <td> 2333.276</td> <td> 3493.923</td>\n",
       "</tr>\n",
       "<tr>\n",
       "  <th>OSLG</th>      <td> 1514.2860</td> <td>  175.428</td> <td>    8.632</td> <td> 0.000</td> <td> 1165.604</td> <td> 1862.968</td>\n",
       "</tr>\n",
       "</table>\n",
       "<table class=\"simpletable\">\n",
       "<tr>\n",
       "  <th>Omnibus:</th>       <td> 3.836</td> <th>  Durbin-Watson:     </th> <td>   2.160</td>\n",
       "</tr>\n",
       "<tr>\n",
       "  <th>Prob(Omnibus):</th> <td> 0.147</td> <th>  Jarque-Bera (JB):  </th> <td>   3.104</td>\n",
       "</tr>\n",
       "<tr>\n",
       "  <th>Skew:</th>          <td>-0.392</td> <th>  Prob(JB):          </th> <td>   0.212</td>\n",
       "</tr>\n",
       "<tr>\n",
       "  <th>Kurtosis:</th>      <td> 3.461</td> <th>  Cond. No.          </th> <td>    139.</td>\n",
       "</tr>\n",
       "</table><br/><br/>Notes:<br/>[1] Standard Errors assume that the covariance matrix of the errors is correctly specified."
      ],
      "text/plain": [
       "<class 'statsmodels.iolib.summary.Summary'>\n",
       "\"\"\"\n",
       "                            OLS Regression Results                            \n",
       "==============================================================================\n",
       "Dep. Variable:                     RA   R-squared:                       0.907\n",
       "Model:                            OLS   Adj. R-squared:                  0.905\n",
       "Method:                 Least Squares   F-statistic:                     425.8\n",
       "Date:                Wed, 07 Jun 2023   Prob (F-statistic):           1.16e-45\n",
       "Time:                        22:27:29   Log-Likelihood:                -418.27\n",
       "No. Observations:                  90   AIC:                             842.5\n",
       "Df Residuals:                      87   BIC:                             850.0\n",
       "Df Model:                           2                                         \n",
       "Covariance Type:            nonrobust                                         \n",
       "==============================================================================\n",
       "                 coef    std err          t      P>|t|      [0.025      0.975]\n",
       "------------------------------------------------------------------------------\n",
       "Intercept   -837.3779     60.255    -13.897      0.000    -957.142    -717.614\n",
       "OOBP        2913.5995    291.971      9.979      0.000    2333.276    3493.923\n",
       "OSLG        1514.2860    175.428      8.632      0.000    1165.604    1862.968\n",
       "==============================================================================\n",
       "Omnibus:                        3.836   Durbin-Watson:                   2.160\n",
       "Prob(Omnibus):                  0.147   Jarque-Bera (JB):                3.104\n",
       "Skew:                          -0.392   Prob(JB):                        0.212\n",
       "Kurtosis:                       3.461   Cond. No.                         139.\n",
       "==============================================================================\n",
       "\n",
       "Notes:\n",
       "[1] Standard Errors assume that the covariance matrix of the errors is correctly specified.\n",
       "\"\"\""
      ]
     },
     "execution_count": 42,
     "metadata": {},
     "output_type": "execute_result"
    }
   ],
   "source": [
    "regressao2 = smf.ols(formula='RA~OOBP+OSLG', data=moneyball).fit()\n",
    "regressao2.summary()"
   ]
  },
  {
   "cell_type": "code",
   "execution_count": 57,
   "id": "9c410450",
   "metadata": {},
   "outputs": [
    {
     "name": "stdout",
     "output_type": "stream",
     "text": [
      "R-quadrado: 0.91 , Temos uma Regressão Linear forte entre as três variáveis (RA~OOBP+OSLG).\n"
     ]
    }
   ],
   "source": [
    "print(\"R-quadrado:\", round(regressao2.rsquared,2),\", Temos uma Regressão Linear forte entre as três variáveis (RA~OOBP+OSLG).\")"
   ]
  },
  {
   "cell_type": "code",
   "execution_count": 43,
   "id": "8bcf9939",
   "metadata": {},
   "outputs": [
    {
     "data": {
      "text/html": [
       "<div>\n",
       "<style scoped>\n",
       "    .dataframe tbody tr th:only-of-type {\n",
       "        vertical-align: middle;\n",
       "    }\n",
       "\n",
       "    .dataframe tbody tr th {\n",
       "        vertical-align: top;\n",
       "    }\n",
       "\n",
       "    .dataframe thead th {\n",
       "        text-align: right;\n",
       "    }\n",
       "</style>\n",
       "<table border=\"1\" class=\"dataframe\">\n",
       "  <thead>\n",
       "    <tr style=\"text-align: right;\">\n",
       "      <th></th>\n",
       "      <th>Team</th>\n",
       "      <th>OOBP</th>\n",
       "      <th>OSLG</th>\n",
       "    </tr>\n",
       "  </thead>\n",
       "  <tbody>\n",
       "    <tr>\n",
       "      <th>350</th>\n",
       "      <td>OAK</td>\n",
       "      <td>0.308</td>\n",
       "      <td>0.38</td>\n",
       "    </tr>\n",
       "  </tbody>\n",
       "</table>\n",
       "</div>"
      ],
      "text/plain": [
       "    Team   OOBP  OSLG\n",
       "350  OAK  0.308  0.38"
      ]
     },
     "execution_count": 43,
     "metadata": {},
     "output_type": "execute_result"
    }
   ],
   "source": [
    "oobp = moneyball[moneyball.Year == 2001][moneyball.Team == 'OAK'][['Team','OOBP','OSLG']]\n",
    "oobp"
   ]
  },
  {
   "cell_type": "code",
   "execution_count": 44,
   "id": "f4a77f09",
   "metadata": {},
   "outputs": [],
   "source": [
    "RA = -837.3779 + 2913.5995*0.308 + 1514.2860*0.38"
   ]
  },
  {
   "cell_type": "code",
   "execution_count": 46,
   "id": "07b635c2",
   "metadata": {},
   "outputs": [
    {
     "name": "stdout",
     "output_type": "stream",
     "text": [
      "O time pode permitir receber 635 runs\n"
     ]
    }
   ],
   "source": [
    "print(\"O time pode permitir receber\",round(RA), \"runs\")"
   ]
  },
  {
   "cell_type": "markdown",
   "id": "472a4461",
   "metadata": {},
   "source": [
    "### Calculando a quantidade de vitórias necessárias para o time chegar aos Playoffs"
   ]
  },
  {
   "cell_type": "code",
   "execution_count": 47,
   "id": "5b15fd75",
   "metadata": {},
   "outputs": [],
   "source": [
    "W2 = 80.8814 + 0.1058*(RS-RA)"
   ]
  },
  {
   "cell_type": "code",
   "execution_count": 51,
   "id": "1613c908",
   "metadata": {},
   "outputs": [
    {
     "name": "stdout",
     "output_type": "stream",
     "text": [
      "Serão necessárias 102 vitórias\n"
     ]
    }
   ],
   "source": [
    "print('Serão necessárias',round(W2) , 'vitórias')"
   ]
  },
  {
   "cell_type": "markdown",
   "id": "15429bac",
   "metadata": {},
   "source": [
    "### CONCLUSÃO: \n",
    "A quantidade de vitórias que serão necessárias para ir aos Playoffs que é de 102 vitórias, então os valores de RS e RA estão coerrentes pois o valor está muito próximo da média de vitórias dos times que foram qualificados para os Playoffs."
   ]
  }
 ],
 "metadata": {
  "kernelspec": {
   "display_name": "Python 3 (ipykernel)",
   "language": "python",
   "name": "python3"
  },
  "language_info": {
   "codemirror_mode": {
    "name": "ipython",
    "version": 3
   },
   "file_extension": ".py",
   "mimetype": "text/x-python",
   "name": "python",
   "nbconvert_exporter": "python",
   "pygments_lexer": "ipython3",
   "version": "3.9.12"
  }
 },
 "nbformat": 4,
 "nbformat_minor": 5
}
